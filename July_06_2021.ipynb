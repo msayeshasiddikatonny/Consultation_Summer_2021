{
  "nbformat": 4,
  "nbformat_minor": 0,
  "metadata": {
    "colab": {
      "name": "July 06 2021.ipynb",
      "provenance": [],
      "authorship_tag": "ABX9TyPhh3YEZyAGOu3XTXSy2xQX",
      "include_colab_link": true
    },
    "kernelspec": {
      "name": "python3",
      "display_name": "Python 3"
    },
    "language_info": {
      "name": "python"
    }
  },
  "cells": [
    {
      "cell_type": "markdown",
      "metadata": {
        "id": "view-in-github",
        "colab_type": "text"
      },
      "source": [
        "<a href=\"https://colab.research.google.com/github/msayeshasiddikatonny/Consultation_Summer_2021/blob/main/July_06_2021.ipynb\" target=\"_parent\"><img src=\"https://colab.research.google.com/assets/colab-badge.svg\" alt=\"Open In Colab\"/></a>"
      ]
    },
    {
      "cell_type": "code",
      "metadata": {
        "id": "XcsIdRG-Wj3C",
        "colab": {
          "base_uri": "https://localhost:8080/"
        },
        "outputId": "cba02669-1c0e-411c-c68e-e7032e84600b"
      },
      "source": [
        "s=\"Ahnaf\"\n",
        "v=''\n",
        "counter=0\n",
        "\n",
        "for i in s:\n",
        "  if i in \"AEIOUaeiou\":\n",
        "    v+=i\n",
        "    counter+=1\n",
        "  else:\n",
        "    pass\n",
        "if counter==0:\n",
        "  print(\"no vowel\")\n",
        "else:\n",
        "  print(\"vowel:\",v,\"total:\",counter)\n",
        "\n",
        "\n"
      ],
      "execution_count": 4,
      "outputs": [
        {
          "output_type": "stream",
          "text": [
            "vowel: Aa total: 2\n"
          ],
          "name": "stdout"
        }
      ]
    },
    {
      "cell_type": "code",
      "metadata": {
        "colab": {
          "base_uri": "https://localhost:8080/"
        },
        "id": "PBssqELYgres",
        "outputId": "1ef9b26a-d9e5-4795-bcc6-d9a29da18cc1"
      },
      "source": [
        "c=0\n",
        "for count in range(601):\n",
        "    if (count%7==0 and count%9==0):\n",
        "        c+=count\n",
        "print(c)"
      ],
      "execution_count": 5,
      "outputs": [
        {
          "output_type": "stream",
          "text": [
            "2835\n"
          ],
          "name": "stdout"
        }
      ]
    },
    {
      "cell_type": "code",
      "metadata": {
        "colab": {
          "base_uri": "https://localhost:8080/"
        },
        "id": "JylLuNejhigQ",
        "outputId": "caa4658b-62d7-46e3-c1ac-9ffbe00ec12a"
      },
      "source": [
        "def my_function(x):\n",
        "  a = x//365\n",
        "  b = x%365\n",
        "  print(b)\n",
        "  c=b//30\n",
        "  d = b%30\n",
        "  return a,c,d\n",
        "x = 4320\n",
        "a,b,c=my_function(x)\n",
        "print(a,\"years\", b,\"Months\",c,\"days\")"
      ],
      "execution_count": 12,
      "outputs": [
        {
          "output_type": "stream",
          "text": [
            "305\n",
            "11 years 10 Months 5 days\n"
          ],
          "name": "stdout"
        }
      ]
    },
    {
      "cell_type": "code",
      "metadata": {
        "colab": {
          "base_uri": "https://localhost:8080/"
        },
        "id": "464BP6UekXZ0",
        "outputId": "f1036e09-ccfd-4677-b4de-f13ae86a6d9a"
      },
      "source": [
        "a=\"hello\"\n",
        "t=''\n",
        "for i in range(len(a)-1,-1,-1):\n",
        "\n",
        "  t+=a[i]\n",
        "if a==t:\n",
        "  print(\"pali\")\n",
        "else:\n",
        "  print(\"no\")"
      ],
      "execution_count": 18,
      "outputs": [
        {
          "output_type": "stream",
          "text": [
            "no\n"
          ],
          "name": "stdout"
        }
      ]
    },
    {
      "cell_type": "markdown",
      "metadata": {
        "id": "TTXkjCQZl2FC"
      },
      "source": [
        "Task 19\n",
        "Write a python program that prints a rectangle of size M (height/line numbers) and N(length/column numbers) using incrementing numbers where M,N will be given as input.\n",
        "\n",
        "===================================\n",
        "\n",
        "Sample Input 4,6\n",
        "\n",
        "Sample Output\n",
        "123456\n",
        "123456\n",
        "123456\n",
        "123456\n",
        "\n",
        "===================================\n",
        "\n",
        "Sample Input 3,2\n",
        "\n",
        "Sample Output\n",
        "12\n",
        "12\n",
        "12"
      ]
    },
    {
      "cell_type": "code",
      "metadata": {
        "colab": {
          "base_uri": "https://localhost:8080/"
        },
        "id": "IjKBuzDZl3cn",
        "outputId": "c350cef1-4013-4fb3-ecf7-5e07d9979c54"
      },
      "source": [
        "row=3\n",
        "col=2\n",
        "\n",
        "for i in range(1,row+1):\n",
        "  for j in range(1,col+1):\n",
        "    print(j,end=\"\")\n",
        "  print()\n",
        "\n"
      ],
      "execution_count": 24,
      "outputs": [
        {
          "output_type": "stream",
          "text": [
            "12\n",
            "12\n",
            "12\n"
          ],
          "name": "stdout"
        }
      ]
    },
    {
      "cell_type": "code",
      "metadata": {
        "colab": {
          "base_uri": "https://localhost:8080/"
        },
        "id": "J9qLCp8Ln2J1",
        "outputId": "e8f97df2-db5a-4a29-d062-b025798dfb77"
      },
      "source": [
        "s='ayes ha'\n",
        "a=''\n",
        "if ' ' in s:\n",
        "  for i in s:\n",
        "    if i!=\" \":\n",
        "      a+=i\n",
        "print(a)"
      ],
      "execution_count": 25,
      "outputs": [
        {
          "output_type": "stream",
          "text": [
            "ayesha\n"
          ],
          "name": "stdout"
        }
      ]
    },
    {
      "cell_type": "code",
      "metadata": {
        "colab": {
          "base_uri": "https://localhost:8080/"
        },
        "id": "nGpXneCbpIGR",
        "outputId": "4c107784-5611-41ce-be52-c374ed56c4d4"
      },
      "source": [
        "max = 16\n",
        "min =  3\n",
        "divisor = 3\n",
        "def arguments(max,min,divisor):\n",
        "    sum = 0\n",
        "\n",
        "    for i in range(min,max):\n",
        "       \n",
        "      if i% divisor==0:\n",
        "        sum += i\n",
        "      #elif j == 0:\n",
        "        #pass\n",
        "    3\n",
        "    print(sum)\n",
        "arguments(max,min,divisor)"
      ],
      "execution_count": 26,
      "outputs": [
        {
          "output_type": "stream",
          "text": [
            "45\n"
          ],
          "name": "stdout"
        }
      ]
    },
    {
      "cell_type": "code",
      "metadata": {
        "colab": {
          "base_uri": "https://localhost:8080/"
        },
        "id": "Jjfanf7EqBYi",
        "outputId": "446a02b9-8729-4e6d-9885-21c413c6691a"
      },
      "source": [
        "days =4320  \n",
        "def find(days):\n",
        "    years = days//365\n",
        "    days = days % 365 \n",
        "    months = days//30\n",
        "    days = days%30  \n",
        "    print(\"years:\",years,\"months:\",months,\"days:\",days )\n",
        "find(days)"
      ],
      "execution_count": 31,
      "outputs": [
        {
          "output_type": "stream",
          "text": [
            "years: 11 months: 10 days: 5\n"
          ],
          "name": "stdout"
        }
      ]
    },
    {
      "cell_type": "code",
      "metadata": {
        "colab": {
          "base_uri": "https://localhost:8080/"
        },
        "id": "wzx7F92Wse0T",
        "outputId": "3cbaf0f3-eba6-4339-e58d-e2d50b708b6f"
      },
      "source": [
        "def mystr(x):\n",
        "    s=''\n",
        "    for i in range(len(x)):\n",
        "         \n",
        "        if x[i]=='i':\n",
        "          \n",
        "             s+=x[i].upper()\n",
        "        else:\n",
        "              s+=x[i]\n",
        "             \n",
        "    print(s)\n",
        "\n",
        "\n",
        "x=\"i eat rice\"\n",
        "mystr(x)\n"
      ],
      "execution_count": 38,
      "outputs": [
        {
          "output_type": "stream",
          "text": [
            "I eat rIce\n"
          ],
          "name": "stdout"
        }
      ]
    },
    {
      "cell_type": "code",
      "metadata": {
        "colab": {
          "base_uri": "https://localhost:8080/"
        },
        "id": "p5-gts6TtuiQ",
        "outputId": "9ed34dce-e525-4c91-f938-4b069e72326b"
      },
      "source": [
        "name =\"wrty\"\n",
        "def vowel(name):\n",
        "    v=''\n",
        "    count = 0\n",
        "    for i in  name:\n",
        "        if i  in  'AEIOUaeiou'  :\n",
        "          count += 1\n",
        "          v+=i\n",
        "        else:\n",
        "           pass\n",
        "    return v,count\n",
        "    \n",
        "v,c=vowel(name)\n",
        "if c==0:\n",
        "  print('no vowel')\n",
        "else:\n",
        "  print( \"vowel\",v,'total:',c)"
      ],
      "execution_count": 48,
      "outputs": [
        {
          "output_type": "stream",
          "text": [
            "no vowel\n"
          ],
          "name": "stdout"
        }
      ]
    },
    {
      "cell_type": "code",
      "metadata": {
        "id": "aqwOfHUPvK12"
      },
      "source": [
        "e=\"ahhduie@kaaj.com\"\n",
        "old=\"kaaj.com\"\n",
        "new_d=\"sh.xyz\"\n",
        "if old in e:\n",
        "  #replace"
      ],
      "execution_count": null,
      "outputs": []
    }
  ]
}