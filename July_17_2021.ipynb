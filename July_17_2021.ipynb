{
  "nbformat": 4,
  "nbformat_minor": 0,
  "metadata": {
    "colab": {
      "name": "July_17_2021.ipynb",
      "provenance": [],
      "authorship_tag": "ABX9TyPRh+sT9gRe/Ny4HLPBtoTk",
      "include_colab_link": true
    },
    "kernelspec": {
      "name": "python3",
      "display_name": "Python 3"
    },
    "language_info": {
      "name": "python"
    }
  },
  "cells": [
    {
      "cell_type": "markdown",
      "metadata": {
        "id": "view-in-github",
        "colab_type": "text"
      },
      "source": [
        "<a href=\"https://colab.research.google.com/github/msayeshasiddikatonny/Consultation_Summer_2021/blob/main/July_17_2021.ipynb\" target=\"_parent\"><img src=\"https://colab.research.google.com/assets/colab-badge.svg\" alt=\"Open In Colab\"/></a>"
      ]
    },
    {
      "cell_type": "code",
      "metadata": {
        "id": "sqBJlx6FaKdA"
      },
      "source": [
        ""
      ],
      "execution_count": null,
      "outputs": []
    },
    {
      "cell_type": "markdown",
      "metadata": {
        "id": "8-O0ToGIaLI-"
      },
      "source": [
        "Task 8\n",
        "Write a Python program that takes two lists and prints True if they have at least one common member.\n",
        "\n",
        "===================================================================\n",
        "\n",
        "Sample Input 1:\n",
        "List_one : [1, 4, 3, 2, 6]\n",
        "List_two : [5, 6, 9, 8, 7]\n",
        "\n",
        "Sample Output 1:\n",
        "True\n",
        "\n",
        "===================================================================\n",
        "\n",
        "Sample Input 2:\n",
        "List_one : [1, 4, 3, 2, 5]\n",
        "List_two : [8, 7, 6, 9]\n",
        "\n",
        "Sample Output 2:\n",
        "False\n",
        "\n",
        "==================================================================="
      ]
    },
    {
      "cell_type": "code",
      "metadata": {
        "colab": {
          "base_uri": "https://localhost:8080/"
        },
        "id": "JU9HftRpaMkI",
        "outputId": "01b3b6f5-fc99-4f43-a37e-5727e8fba1fb"
      },
      "source": [
        "l1=[1,2,3,4]\n",
        "l2=[4,5,6,8,9]\n",
        "flag=False\n",
        "\n",
        "for i in l1:\n",
        "  if i in l2:\n",
        "    flag=True\n",
        "    break\n",
        "print(flag)\n",
        "\n",
        "\n",
        "\n"
      ],
      "execution_count": null,
      "outputs": [
        {
          "output_type": "stream",
          "text": [
            "True\n"
          ],
          "name": "stdout"
        }
      ]
    }
  ]
}