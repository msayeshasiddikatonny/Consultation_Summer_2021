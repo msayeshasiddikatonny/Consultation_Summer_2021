{
  "nbformat": 4,
  "nbformat_minor": 0,
  "metadata": {
    "colab": {
      "name": "July 27 2021.ipynb",
      "provenance": [],
      "authorship_tag": "ABX9TyNzlLJfyS40jCOf5Ak2H+Bu",
      "include_colab_link": true
    },
    "kernelspec": {
      "name": "python3",
      "display_name": "Python 3"
    },
    "language_info": {
      "name": "python"
    }
  },
  "cells": [
    {
      "cell_type": "markdown",
      "metadata": {
        "id": "view-in-github",
        "colab_type": "text"
      },
      "source": [
        "<a href=\"https://colab.research.google.com/github/msayeshasiddikatonny/Consultation_Summer_2021/blob/main/July_27_2021.ipynb\" target=\"_parent\"><img src=\"https://colab.research.google.com/assets/colab-badge.svg\" alt=\"Open In Colab\"/></a>"
      ]
    },
    {
      "cell_type": "code",
      "metadata": {
        "colab": {
          "base_uri": "https://localhost:8080/"
        },
        "id": "_7F6nMp0w9H4",
        "outputId": "fe6cea80-5957-4cb9-b5f8-67a435e9fa67"
      },
      "source": [
        "#user_input=['hey','there','','what','','up']\n",
        "\n",
        "\n",
        "user_input = [\"hey\", \"there\", \"\", \"what's\", \"\", \"up\", \"\", \"?\"]\n",
        "print(user_input)\n",
        "new_list= []\n",
        " \n",
        "for i in user_input:\n",
        "    if(i!=''):\n",
        "        new_list.append(i)\n",
        "\n",
        "print(new_list)"
      ],
      "execution_count": null,
      "outputs": [
        {
          "output_type": "stream",
          "text": [
            "['hey', 'there', '', \"what's\", '', 'up', '', '?']\n",
            "['hey', 'there', \"what's\", 'up', '?']\n"
          ],
          "name": "stdout"
        }
      ]
    }
  ]
}