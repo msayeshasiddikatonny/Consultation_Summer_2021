{
  "nbformat": 4,
  "nbformat_minor": 0,
  "metadata": {
    "colab": {
      "name": "July_13_2021.ipynb",
      "provenance": [],
      "authorship_tag": "ABX9TyM4Psh80fg1c0iPSjPM8jCI",
      "include_colab_link": true
    },
    "kernelspec": {
      "name": "python3",
      "display_name": "Python 3"
    },
    "language_info": {
      "name": "python"
    }
  },
  "cells": [
    {
      "cell_type": "markdown",
      "metadata": {
        "id": "view-in-github",
        "colab_type": "text"
      },
      "source": [
        "<a href=\"https://colab.research.google.com/github/msayeshasiddikatonny/Consultation_Summer_2021/blob/main/July_13_2021.ipynb\" target=\"_parent\"><img src=\"https://colab.research.google.com/assets/colab-badge.svg\" alt=\"Open In Colab\"/></a>"
      ]
    },
    {
      "cell_type": "code",
      "metadata": {
        "colab": {
          "base_uri": "https://localhost:8080/"
        },
        "id": "ZZJ0sXhqRX2j",
        "outputId": "197f0f37-43cf-4efe-b81f-95b44ed65689"
      },
      "source": [
        "txt = \"welcome-to-the-jungle\"\n",
        "\n",
        "x = txt.split(\"-\")\n",
        "\n",
        "for i in x:\n",
        "     print(i)"
      ],
      "execution_count": 1,
      "outputs": [
        {
          "output_type": "stream",
          "text": [
            "welcome\n",
            "to\n",
            "the\n",
            "jungle\n"
          ],
          "name": "stdout"
        }
      ]
    },
    {
      "cell_type": "code",
      "metadata": {
        "colab": {
          "base_uri": "https://localhost:8080/"
        },
        "id": "8SyCEHfDRgUT",
        "outputId": "ac2b627a-d74c-49e0-e987-106b56ec9c95"
      },
      "source": [
        "n= 'CSE110'\n",
        "n2=4\n",
        "if n2%2==0:\n",
        "     \n",
        "    for i in range(n2*2):\n",
        "        print(n,end='')\n",
        "         \n",
        "else:\n",
        "     \n",
        "    for j in range(n2*3):\n",
        "        print(n,end='')\n",
        "         \n",
        "print()"
      ],
      "execution_count": 2,
      "outputs": [
        {
          "output_type": "stream",
          "text": [
            "CSE110CSE110CSE110CSE110CSE110CSE110CSE110CSE110\n"
          ],
          "name": "stdout"
        }
      ]
    },
    {
      "cell_type": "code",
      "metadata": {
        "colab": {
          "base_uri": "https://localhost:8080/"
        },
        "id": "yQv0w749SG-e",
        "outputId": "6256b92a-d2bb-4894-ed91-c2594bd5a0de"
      },
      "source": [
        "s=\"brac\"\n",
        "for i in s:\n",
        "  print(i,ord(i))\n",
        "#brac===csbd \n",
        "s1=''\n",
        "for i in s:\n",
        "  s1+=chr(ord(i)+1)\n",
        "print(s1)"
      ],
      "execution_count": 5,
      "outputs": [
        {
          "output_type": "stream",
          "text": [
            "b 98\n",
            "r 114\n",
            "a 97\n",
            "c 99\n",
            "csbd\n"
          ],
          "name": "stdout"
        }
      ]
    },
    {
      "cell_type": "code",
      "metadata": {
        "colab": {
          "base_uri": "https://localhost:8080/"
        },
        "id": "EEoTG5kFUE04",
        "outputId": "c378dcf0-34c8-424c-b6a4-505e124c2a1a"
      },
      "source": [
        "s='abcd'\n",
        "s1='XY'#aXbYcd\n",
        "f=''\n",
        "if len(s)>len(s1):\n",
        "  for i in range (0,len(s1)):\n",
        "    f+=s[i]+s1[i]\n",
        "  f+=s[len(s1):]\n",
        "print(f)"
      ],
      "execution_count": 6,
      "outputs": [
        {
          "output_type": "stream",
          "text": [
            "aXbYcd\n"
          ],
          "name": "stdout"
        }
      ]
    },
    {
      "cell_type": "code",
      "metadata": {
        "colab": {
          "base_uri": "https://localhost:8080/"
        },
        "id": "8ztjB6vyWgzM",
        "outputId": "c1db3ef1-793c-407e-9ad1-f222cf232894"
      },
      "source": [
        "s='1234589786'#43215\n",
        "x=3\n",
        "s1=''\n",
        "for i in range(x,-1,-1):\n",
        "  s1+=s[i]\n",
        "s1+=s[x+1:]\n",
        "print(s1)"
      ],
      "execution_count": 8,
      "outputs": [
        {
          "output_type": "stream",
          "text": [
            "4321589786\n"
          ],
          "name": "stdout"
        }
      ]
    }
  ]
}