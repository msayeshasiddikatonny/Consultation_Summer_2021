{
  "nbformat": 4,
  "nbformat_minor": 0,
  "metadata": {
    "colab": {
      "name": "July 03 2021.ipynb",
      "provenance": [],
      "authorship_tag": "ABX9TyNftvOwA07Y4+MXzjtuOD84",
      "include_colab_link": true
    },
    "kernelspec": {
      "name": "python3",
      "display_name": "Python 3"
    },
    "language_info": {
      "name": "python"
    }
  },
  "cells": [
    {
      "cell_type": "markdown",
      "metadata": {
        "id": "view-in-github",
        "colab_type": "text"
      },
      "source": [
        "<a href=\"https://colab.research.google.com/github/msayeshasiddikatonny/Consultation_Summer_2021/blob/main/July_03_2021.ipynb\" target=\"_parent\"><img src=\"https://colab.research.google.com/assets/colab-badge.svg\" alt=\"Open In Colab\"/></a>"
      ]
    },
    {
      "cell_type": "code",
      "metadata": {
        "colab": {
          "base_uri": "https://localhost:8080/"
        },
        "id": "i0l0JGlSGA-I",
        "outputId": "4cca9181-d63a-444c-8a56-9b651f6704c9"
      },
      "source": [
        "n=int(input(\"enter: \"))\n",
        "x=0\n",
        "y=1\n",
        "print(x)\n",
        "print(y)\n",
        "while(y<n):\n",
        "  print(y)\n",
        "  t=x+y\n",
        "  x=y\n",
        "  y=t\n",
        "  \n"
      ],
      "execution_count": 6,
      "outputs": [
        {
          "output_type": "stream",
          "text": [
            "enter: 10\n",
            "0\n",
            "1\n",
            "1\n",
            "1\n",
            "2\n",
            "3\n",
            "5\n",
            "8\n"
          ],
          "name": "stdout"
        }
      ]
    }
  ]
}