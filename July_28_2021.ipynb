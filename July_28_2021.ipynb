{
  "nbformat": 4,
  "nbformat_minor": 0,
  "metadata": {
    "colab": {
      "name": " July_28_2021.ipynb",
      "provenance": [],
      "authorship_tag": "ABX9TyNhPJ5wT/eeE7rvfatRMu8Y",
      "include_colab_link": true
    },
    "kernelspec": {
      "name": "python3",
      "display_name": "Python 3"
    },
    "language_info": {
      "name": "python"
    }
  },
  "cells": [
    {
      "cell_type": "markdown",
      "metadata": {
        "id": "view-in-github",
        "colab_type": "text"
      },
      "source": [
        "<a href=\"https://colab.research.google.com/github/msayeshasiddikatonny/Consultation_Summer_2021/blob/main/July_28_2021.ipynb\" target=\"_parent\"><img src=\"https://colab.research.google.com/assets/colab-badge.svg\" alt=\"Open In Colab\"/></a>"
      ]
    },
    {
      "cell_type": "code",
      "metadata": {
        "id": "z450d0RPA6Fi",
        "colab": {
          "base_uri": "https://localhost:8080/"
        },
        "outputId": "2c39e0ac-4a9c-4eac-8937-ec53891bb807"
      },
      "source": [
        "l1=[1,2,3,89]\n",
        "l2=[4,5,6]#l=[1,2,3,4,5,6]\n",
        "l=[]\n",
        "for i in range(0,len(l1)-1):\n",
        "    l.append(l1[i])\n",
        "for i in l2:\n",
        "    l.append(i)\n",
        "print(l)"
      ],
      "execution_count": 1,
      "outputs": [
        {
          "output_type": "stream",
          "text": [
            "[1, 2, 3, 4, 5, 6]\n"
          ],
          "name": "stdout"
        }
      ]
    },
    {
      "cell_type": "code",
      "metadata": {
        "colab": {
          "base_uri": "https://localhost:8080/"
        },
        "id": "WZ9v7kjQChGb",
        "outputId": "a950108a-af34-44de-c011-761a3adb2245"
      },
      "source": [
        "l=[1,2,3,4,5]\n",
        "max_e=l[0]#1\n",
        "max_index=0#0\n",
        "for i in range(1,len(l)):\n",
        "  if l[i]>max_e:\n",
        "    max_e=l[i]\n",
        "    max_index=i\n",
        "print(max_e)\n",
        "max_e1=l[0]\n",
        "max_index1=0\n",
        "for i in range(1,len(l)):\n",
        "   if i!=max_index and   l[i]>max_e1 :\n",
        "       \n",
        "        max_e1=l[i]\n",
        "        max_index1=i\n",
        "print(\"second high:  \",max_e1)\n",
        "print(\"second high index:  \",max_index1)"
      ],
      "execution_count": 2,
      "outputs": [
        {
          "output_type": "stream",
          "text": [
            "5\n",
            "second high:   4\n",
            "second high index:   3\n"
          ],
          "name": "stdout"
        }
      ]
    },
    {
      "cell_type": "code",
      "metadata": {
        "colab": {
          "base_uri": "https://localhost:8080/"
        },
        "id": "D7uG9UU7FAhe",
        "outputId": "3d088b8b-c016-4dc3-c14c-e6d48fd695c9"
      },
      "source": [
        "a=\"2314\"\n",
        "b='3421'\n",
        "a=sorted(a)\n",
        "b=sorted(b)\n",
        "print(a)\n",
        "print(b)\n",
        "if a==b:\n",
        "  print('yes')\n",
        "else:\n",
        "  print('no')\n",
        "\n",
        "\n",
        "\n"
      ],
      "execution_count": 3,
      "outputs": [
        {
          "output_type": "stream",
          "text": [
            "['1', '2', '3', '4']\n",
            "['1', '2', '3', '4']\n",
            "yes\n"
          ],
          "name": "stdout"
        }
      ]
    },
    {
      "cell_type": "markdown",
      "metadata": {
        "id": "On7SG3DkViz8"
      },
      "source": [
        "Write a python program that will take a sentence as an input from the user  where each word is separated by a space. Your task is to print the words  present in the sentence in a list format and finally print the sentence by  reversing each word.  [You are NOT allowed to use built-in reverse() or reversed()]  ================================ Sample Input 1: This is the list string quiz  Sample Output 1: ['This', 'is', 'the', 'list', 'string', 'quiz'] sihT si eht tsil gnirts ziuq  Explanation 01: Here, we have 5 words in the given sentence separated by  space. Then, those words have been printed in list format. Then each word  had been reversed and printed in the string format. “sihT’ is the reverse  of  'This' and so on. ================================"
      ]
    },
    {
      "cell_type": "code",
      "metadata": {
        "colab": {
          "base_uri": "https://localhost:8080/"
        },
        "id": "CIsFUhFkVj-I",
        "outputId": "e84c90c2-caf5-4dfd-ee81-b54fe3bbff11"
      },
      "source": [
        "s= 'This is the list string quiz'\n",
        "s= s.split(\" \")\n",
        "print(s)\n",
        " \n",
        "for i in s:\n",
        "  #print(i,'string')\n",
        "  s1=i[-1::-1]\n",
        "  print(s1, end=\" \")"
      ],
      "execution_count": null,
      "outputs": [
        {
          "output_type": "stream",
          "text": [
            "['This', 'is', 'the', 'list', 'string', 'quiz']\n",
            "sihT si eht tsil gnirts ziuq "
          ],
          "name": "stdout"
        }
      ]
    },
    {
      "cell_type": "code",
      "metadata": {
        "colab": {
          "base_uri": "https://localhost:8080/"
        },
        "id": "yjbZszTSjx_j",
        "outputId": "a1be5796-8455-4025-bb27-e01c95913762"
      },
      "source": [
        "a='asdfgh'\n",
        "b='ASDDGHGFJ'\n",
        "c=a\n",
        "a=b\n",
        "b=c\n",
        "print(a)\n",
        "print(b)"
      ],
      "execution_count": null,
      "outputs": [
        {
          "output_type": "stream",
          "text": [
            "ASDDGHGFJ\n",
            "asdfgh\n"
          ],
          "name": "stdout"
        }
      ]
    },
    {
      "cell_type": "code",
      "metadata": {
        "colab": {
          "base_uri": "https://localhost:8080/"
        },
        "id": "MeagnL5bkQzF",
        "outputId": "937879c9-f4f4-4139-97e0-957fa157b90f"
      },
      "source": [
        "l=[1,2,3,4,5,6]# \n",
        "n=len(l)/2\n",
        "i=0\n",
        "j=len(l)-1\n",
        "step=2\n",
        "while(i<n+1 and j>n-1):\n",
        "  temp=l[i]\n",
        "  l[i]=l[j]\n",
        "  l[j]=temp\n",
        "  i=i+step\n",
        "  j=j-step\n",
        "print(l)"
      ],
      "execution_count": null,
      "outputs": [
        {
          "output_type": "stream",
          "text": [
            "[6, 2, 4, 3, 5, 1]\n"
          ],
          "name": "stdout"
        }
      ]
    },
    {
      "cell_type": "code",
      "metadata": {
        "colab": {
          "base_uri": "https://localhost:8080/"
        },
        "id": "s-WPeDCtn6t6",
        "outputId": "e839da39-1a97-4216-ff7e-951b9f7b6898"
      },
      "source": [
        "a='hello'  \n",
        "b='doll'\n",
        "c='callo'\n",
        "d='mallo'\n",
        "s=''\n",
        "for i in a:\n",
        "     if i in b and i in c and i in d:\n",
        "       s=s+i\n",
        "\n",
        "print(s)\n"
      ],
      "execution_count": null,
      "outputs": [
        {
          "output_type": "stream",
          "text": [
            "llo\n"
          ],
          "name": "stdout"
        }
      ]
    }
  ]
}