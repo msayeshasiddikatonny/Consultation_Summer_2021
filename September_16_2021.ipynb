{
  "nbformat": 4,
  "nbformat_minor": 0,
  "metadata": {
    "colab": {
      "name": "September_16_2021.ipynb",
      "provenance": [],
      "authorship_tag": "ABX9TyOtgDvB7mJDyXByU6tph7BA",
      "include_colab_link": true
    },
    "kernelspec": {
      "name": "python3",
      "display_name": "Python 3"
    },
    "language_info": {
      "name": "python"
    }
  },
  "cells": [
    {
      "cell_type": "markdown",
      "metadata": {
        "id": "view-in-github",
        "colab_type": "text"
      },
      "source": [
        "<a href=\"https://colab.research.google.com/github/msayeshasiddikatonny/Consultation_Summer_2021/blob/main/September_16_2021.ipynb\" target=\"_parent\"><img src=\"https://colab.research.google.com/assets/colab-badge.svg\" alt=\"Open In Colab\"/></a>"
      ]
    },
    {
      "cell_type": "code",
      "metadata": {
        "colab": {
          "base_uri": "https://localhost:8080/"
        },
        "id": "u2e3kGe2hxQo",
        "outputId": "6b4d68b5-0304-44d1-b35c-9c04a41c5262"
      },
      "source": [
        "# TODO\n",
        "class Patient:\n",
        "  def __init__ (self, name,age, weight ,height) :\n",
        "    self.name = name \n",
        "    self.age= age\n",
        "    self.weight= weight \n",
        "    self.height= height\n",
        "    BMI= weight/height**2\n",
        "\n",
        "    self.BMI= BMI\n",
        "  def print_details(self):\n",
        "    print(\"Name = \",self.name)\n",
        "    print(\"Age = \", self.age)\n",
        "    print(\"weight = \", self.weight)\n",
        "    print(\"height = \", self.height)\n",
        "    print(\"bmi = \" ,self.BMI )\n",
        "\n",
        "# Do not change the following code:\n",
        "p1 = Patient(\"A\", 55, 63.0, 158.0)\n",
        "p1.print_details()\n",
        "print()\n",
        "p2 = Patient(\"B\", 53, 61.0, 149.0)\n",
        "p2.print_details()"
      ],
      "execution_count": null,
      "outputs": [
        {
          "output_type": "stream",
          "name": "stdout",
          "text": [
            "Name =  A\n",
            "Age =  55\n",
            "weight =  63.0\n",
            "height =  158.0\n",
            "bmi =  0.002523634033007531\n",
            "\n",
            "Name =  B\n",
            "Age =  53\n",
            "weight =  61.0\n",
            "height =  149.0\n",
            "bmi =  0.002747623980901761\n"
          ]
        }
      ]
    },
    {
      "cell_type": "code",
      "metadata": {
        "colab": {
          "base_uri": "https://localhost:8080/"
        },
        "id": "0r9V0a8GkL-N",
        "outputId": "c8afdf42-ea87-4805-8055-217dc2d71a73"
      },
      "source": [
        "# TODO\n",
        "class Shape:\n",
        "   \n",
        "  def __init__(self,a,b,c):\n",
        "    self.a=a\n",
        "    self.b=b\n",
        "    self.c=c\n",
        "    '''\n",
        "    \n",
        "    if a == \"Triangle\":\n",
        "      self.area = b * c * 0.5\n",
        "      print (self.area)\n",
        "    elif a == \"Square\" or a == \"Rectangle\":\n",
        "      self.area = b*c\n",
        "      print (self.area)\n",
        "    elif a== \"Rhombus\":\n",
        "      self.area = (b*c)/2\n",
        "      print (self.area)\n",
        "    else:\n",
        "      print (' shape unknown ') \n",
        "      '''\n",
        "  def area(self):\n",
        "    if self.a == \"Triangle\":\n",
        "       area = self.b * self.c * 0.5\n",
        "       print ( area)\n",
        "    elif self.a == \"Square\" or self.a == \"Rectangle\":\n",
        "       area = self.b*self.c\n",
        "       print ( area)\n",
        "    elif self.a== \"Rhombus\":\n",
        "       area = (self.b*self.c)/2\n",
        "       print (  area)\n",
        "    else:\n",
        "      print (' shape unknown ')\n",
        "# Do not change the following code:\n",
        "triangle_1 = Shape(\"Triangle\",10,25)\n",
        "triangle_1.area()\n",
        "print(\"==========================\")\n",
        "square_1 = Shape(\"Square\",10,10)\n",
        "square_1.area()\n",
        "print(\"==========================\")\n",
        "rhombus_1 = Shape(\"Rhombus\",18,25)\n",
        "rhombus_1.area()\n",
        "print(\"==========================\")\n",
        "rectangle_1 = Shape(\"Rectangle\",15,30)\n",
        "rectangle_1.area()\n",
        "print(\"==========================\")\n",
        "trapezium_1 = Shape(\"Trapezium\",15,30)\n",
        "trapezium_1.area()"
      ],
      "execution_count": null,
      "outputs": [
        {
          "output_type": "stream",
          "name": "stdout",
          "text": [
            "125.0\n",
            "==========================\n",
            "100\n",
            "==========================\n",
            "225.0\n",
            "==========================\n",
            "450\n",
            "==========================\n",
            " shape unknown \n"
          ]
        }
      ]
    },
    {
      "cell_type": "code",
      "metadata": {
        "id": "eN8ja0b1n5Eb"
      },
      "source": [
        "class RealNumber:\n",
        " \n",
        "  def __init__(self, r=0):\n",
        "    self.__realValue = r \n",
        "  def getRealValue(self):\n",
        "    return self.__realValue\n",
        "  def setRealValue(self, r):\n",
        "    self.__realValue = r\n",
        "  def __str__(self):\n",
        "    return 'RealPart: '+str(self.getRealValue()) \n",
        "class ComplexNumber(RealNumber):\n",
        "  def __init__(self,real_v=1,imag_v=1):\n",
        "    super().__init__(1.0*(real_v))\n",
        "    self.imag_v=imag_v*1.0\n",
        "  def __str__(self):\n",
        "     print(super().__str__( ) )\n",
        "     return \"complexNum: \"+str(self.imag_v)\n",
        "cn1 = ComplexNumber()\n",
        "print(cn1)\n",
        "print('---------')\n",
        "cn2 = ComplexNumber(5,7)\n",
        "print(cn2)"
      ],
      "execution_count": null,
      "outputs": []
    },
    {
      "cell_type": "code",
      "metadata": {
        "colab": {
          "base_uri": "https://localhost:8080/"
        },
        "id": "BqB0xv43qYxS",
        "outputId": "0771d04c-134b-4777-8635-034b7ddb12f2"
      },
      "source": [
        "class myList:\n",
        "  def __init__(self,*arg):\n",
        "    self.s=0\n",
        "    self.lst1=list(arg)\n",
        "    #print(self.lst1)\n",
        "  def sum(self):\n",
        "    s1=0\n",
        "    for i in self.lst1:\n",
        "      s1+=i \n",
        "    self.s=s1      \n",
        "    print('Sum: ', self.s)\n",
        "\n",
        "  def merge(self,*arg1):\n",
        "     lst2=list(arg1)\n",
        "     for i in lst2:\n",
        "        self.lst1.append(i)\n",
        "      \n",
        "      \n",
        "\n",
        "  def  average(self):\n",
        "    print(self.s,len(self.lst1))\n",
        "    if self.s==0:\n",
        "      print('Average:',0)\n",
        "    else:\n",
        "      a=self.s/len(self.lst1)\n",
        "      print('Average:',a) \n",
        "\n",
        "\n",
        "l1 =  myList(2,3,4,5,6) #you might need a list inside your class to store the values\n",
        "l1.sum()\n",
        "#l1.sum()\n",
        "l1.merge(4,5,9)\n",
        "l1.sum()\n",
        "l1.average()\n",
        "print('-----------------------------')\n",
        "l2 =  myList()\n",
        "l2.average()\n",
        "l2.merge(1,2,4,8)\n",
        "l2.sum()"
      ],
      "execution_count": 5,
      "outputs": [
        {
          "output_type": "stream",
          "name": "stdout",
          "text": [
            "Sum:  20\n",
            "Sum:  38\n",
            "38 8\n",
            "Average: 4.75\n",
            "-----------------------------\n",
            "0 0\n",
            "Average: 0\n",
            "Sum:  15\n"
          ]
        }
      ]
    },
    {
      "cell_type": "code",
      "metadata": {
        "colab": {
          "base_uri": "https://localhost:8080/"
        },
        "id": "WloSVb1F1nQF",
        "outputId": "5d959fb1-93b8-45df-9d28-0816e4819bd3"
      },
      "source": [
        "s = \"abrar,0,1,2,3,4,5,6,7, farhan,4,5,6,7,8,0, washikur,0,1,5,6,7,8\"\n",
        "s = s.split(\",\")\n",
        "#print(s)\n",
        "d = {}\n",
        "k=''\n",
        "for i in s:\n",
        "     \n",
        "    if i in \"0123456789\":\n",
        "        if k in d:\n",
        "            d[k].append(int(i))\n",
        "        else:\n",
        "            d[k]=[int(i)]\n",
        "\n",
        "    else:\n",
        "      \n",
        "       k=i\n",
        "    \n",
        "print(d)"
      ],
      "execution_count": null,
      "outputs": [
        {
          "output_type": "stream",
          "name": "stdout",
          "text": [
            "{'abrar': [0, 1, 2, 3, 4, 5, 6, 7], ' farhan': [4, 5, 6, 7, 8, 0], ' washikur': [0, 1, 5, 6, 7, 8]}\n"
          ]
        }
      ]
    },
    {
      "cell_type": "markdown",
      "metadata": {
        "id": "vJMRqLEA6TB_"
      },
      "source": [
        "d = {\"A\":[\"B\",\"C\"],\"E\":[\"B\",\"D\"],\"F\":[\"C\",\"D\"]}\n",
        "\n",
        "output: A,B & E\n",
        "        A,C & F\n",
        "        E,D & F"
      ]
    },
    {
      "cell_type": "code",
      "metadata": {
        "colab": {
          "base_uri": "https://localhost:8080/"
        },
        "id": "76V0CXLg6bgV",
        "outputId": "001a846b-a4cc-4a6c-b029-318ab0b0aeef"
      },
      "source": [
        "'''\n",
        "d = {\"A\":[\"B\",\"C\"],\"E\":[\"B\",\"D\"],\"F\":[\"C\",\"D\"]}\n",
        "\n",
        "output: Abir,B & Elen\n",
        "        Abir,C & Frade\n",
        "        Elen,D & Frade\n",
        "\n",
        "1 2 3\n",
        "1 2 \n",
        "1 3\n",
        "2 3\n",
        "\n",
        "         \n",
        "\n",
        "def fun(l,l0,l1):\n",
        "    l_r=[]\n",
        " \n",
        "    for i in l0:\n",
        "      if i in  l1:\n",
        "        l_r.append(l[0])\n",
        "        l_r.append(i)\n",
        "        l_r.append(l[1])\n",
        "    print(l_r)\n",
        "  \n",
        "\n",
        "'''\n",
        "\n",
        "\n",
        "d = {\"Abir\":[\"B\",\"C\"],\"Elen\":[\"B\",\"D\"],\"Frade\":[\"C\",\"D\"]}\n",
        "\n",
        "l= []\n",
        "for i in d:\n",
        "  l.append(i)\n",
        "l0=d[l[0]]#1\n",
        "l1=d[l[1]]#2\n",
        "l2=d[l[2]]#3\n",
        "\n",
        "\n",
        "\n",
        " \n",
        "l_r=[]\n",
        " \n",
        "for i in l0:\n",
        "  if i in  l1:\n",
        "    l_r.append(l[0])\n",
        "    l_r.append(i)\n",
        "    l_r.append(l[1])\n",
        "print(l_r) \n",
        "l_r1=[] \n",
        "for i in l0:\n",
        "  if i in  l2:\n",
        "    l_r1.append(l[0])\n",
        "    l_r1.append(i)\n",
        "    l_r1.append(l[2])\n",
        "\n",
        "print(l_r1)\n",
        "\n",
        "\n",
        "l_r2=[] \n",
        "for i in l1:\n",
        "  if i in  l2:\n",
        "    l_r2.append(l[1])\n",
        "    l_r2.append(i)\n",
        "    l_r2.append(l[2])\n",
        "\n",
        "print(l_r2)\n",
        " "
      ],
      "execution_count": null,
      "outputs": [
        {
          "output_type": "stream",
          "name": "stdout",
          "text": [
            "['Abir', 'B', 'Elen']\n",
            "['Abir', 'C', 'Frade']\n",
            "['Elen', 'D', 'Frade']\n"
          ]
        }
      ]
    },
    {
      "cell_type": "code",
      "metadata": {
        "colab": {
          "base_uri": "https://localhost:8080/"
        },
        "id": "Erp3EAwxHCO2",
        "outputId": "a114dcd9-0251-4a38-e593-a348da5f2fcc"
      },
      "source": [
        "dic = {\"A\":[\"B\",\"C\"],\"E\":[\"B\",\"D\"],\"F\":[\"C\",\"D\"]}\n",
        "l=[]\n",
        "for i in dic.values():\n",
        "    for j in i:\n",
        "        l.append(j)\n",
        "s=set(l)\n",
        "for i in s:\n",
        "    l2=[]\n",
        "    for k in dic.keys():\n",
        "        if i in dic[k]:\n",
        "            l2.append(k)\n",
        "        l2.append(i)\n",
        "    s2=set(l2)\n",
        "    print([m for m in s2])"
      ],
      "execution_count": null,
      "outputs": [
        {
          "output_type": "stream",
          "name": "stdout",
          "text": [
            "['B', 'A', 'E']\n",
            "['C', 'A', 'F']\n",
            "['F', 'E', 'D']\n"
          ]
        }
      ]
    },
    {
      "cell_type": "code",
      "metadata": {
        "colab": {
          "base_uri": "https://localhost:8080/"
        },
        "id": "HUAYwYnlygQs",
        "outputId": "4d891a86-dd80-4379-9355-3a2309725b09"
      },
      "source": [
        "dic = {\"A\":[\"B\",\"C\"],\"E\":[\"B\",\"D\"],\"F\":[\"C\",\"D\"]}\n",
        "l=[]\n",
        "for i in dic.values():\n",
        "    for j in i:\n",
        "        l.append(j)\n",
        "s=set(l)\n",
        "for i in s:\n",
        "    l2=[]\n",
        "    for k in dic.keys():\n",
        "        if i in dic[k]:\n",
        "            l2.append(k)\n",
        "    l2.append(i)\n",
        "    s2=set(l2)\n",
        "    l3=[m for m in s2]\n",
        "    l3[-1],l3[1]=l3[1],l3[-1]\n",
        "    print(l3)"
      ],
      "execution_count": 1,
      "outputs": [
        {
          "output_type": "stream",
          "name": "stdout",
          "text": [
            "['D', 'F', 'E']\n",
            "['A', 'F', 'C']\n",
            "['A', 'B', 'E']\n"
          ]
        }
      ]
    }
  ]
}