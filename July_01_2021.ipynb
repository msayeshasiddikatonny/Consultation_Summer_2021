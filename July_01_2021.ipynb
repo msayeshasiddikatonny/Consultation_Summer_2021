{
  "nbformat": 4,
  "nbformat_minor": 0,
  "metadata": {
    "colab": {
      "name": "July 01 2021.ipynb",
      "provenance": [],
      "authorship_tag": "ABX9TyOwIdlum9dNdhxh0OkzHVlm",
      "include_colab_link": true
    },
    "kernelspec": {
      "name": "python3",
      "display_name": "Python 3"
    },
    "language_info": {
      "name": "python"
    }
  },
  "cells": [
    {
      "cell_type": "markdown",
      "metadata": {
        "id": "view-in-github",
        "colab_type": "text"
      },
      "source": [
        "<a href=\"https://colab.research.google.com/github/msayeshasiddikatonny/Consultation_Summer_2021/blob/main/July_01_2021.ipynb\" target=\"_parent\"><img src=\"https://colab.research.google.com/assets/colab-badge.svg\" alt=\"Open In Colab\"/></a>"
      ]
    },
    {
      "cell_type": "code",
      "metadata": {
        "id": "D6IAKQ29-Jnt"
      },
      "source": [
        "string=input('enter ')\n",
        "def function(string):\n",
        "    count=0\n",
        "    s=\"\"\n",
        "    for i in string:\n",
        "        if i in 'aeiou':\n",
        "            s=s+i+\",\"\n",
        "            count+=1\n",
        "        elif  i in 'AEIOU':\n",
        "            s=s+i+\",\"\n",
        "            count+=1\n",
        "    if s==\"\":\n",
        "        print(\"No vowels in the name\")\n",
        "    else:\n",
        "        print(s,\"nafis\")\n",
        "        print(\"Vowels: \"+s[0: len(s)-1])\n",
        "        \n",
        "        return count\n",
        "x=function(string)\n",
        "print(\"Total number of vowels: \",x) "
      ],
      "execution_count": null,
      "outputs": []
    }
  ]
}