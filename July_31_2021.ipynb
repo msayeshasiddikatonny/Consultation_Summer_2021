{
  "nbformat": 4,
  "nbformat_minor": 0,
  "metadata": {
    "colab": {
      "name": " July 31 2021.ipynb",
      "provenance": [],
      "authorship_tag": "ABX9TyMjLHDZJTavlOgpEFirtvgc",
      "include_colab_link": true
    },
    "kernelspec": {
      "name": "python3",
      "display_name": "Python 3"
    },
    "language_info": {
      "name": "python"
    }
  },
  "cells": [
    {
      "cell_type": "markdown",
      "metadata": {
        "id": "view-in-github",
        "colab_type": "text"
      },
      "source": [
        "<a href=\"https://colab.research.google.com/github/msayeshasiddikatonny/Consultation_Summer_2021/blob/main/July_31_2021.ipynb\" target=\"_parent\"><img src=\"https://colab.research.google.com/assets/colab-badge.svg\" alt=\"Open In Colab\"/></a>"
      ]
    },
    {
      "cell_type": "code",
      "metadata": {
        "colab": {
          "base_uri": "https://localhost:8080/"
        },
        "id": "EsmZ9iZd33EY",
        "outputId": "cedf0949-9649-45aa-cdc1-eb94796382c9"
      },
      "source": [
        "#1^3*2^2+2^3*3^2+3^3*4^2+n^3(n+1)^2\n",
        "#write c programming that will conclude the sum of the following series up to its nth term\n",
        "\n",
        "\n",
        "n_th_term=int(input())\n",
        "sum_1=0\n",
        "for i in range(1,n_th_term+1):\n",
        "  sum_1=sum_1+i**3*(i+1)**2\n",
        "print(sum_1)\n"
      ],
      "execution_count": 3,
      "outputs": [
        {
          "output_type": "stream",
          "text": [
            "2\n",
            "76\n"
          ],
          "name": "stdout"
        }
      ]
    },
    {
      "cell_type": "code",
      "metadata": {
        "colab": {
          "base_uri": "https://localhost:8080/"
        },
        "id": "P5rht1q79TUM",
        "outputId": "df2bb5e4-d12d-45fb-9dc4-ab457c5f81e4"
      },
      "source": [
        "list1=[(20, 80), (31, 80), (1, 22), (88, 11), (27, 11)]\n",
        "dict1={}\n",
        "for i in list1:\n",
        "    x,y=i\n",
        "    if y in dict1:\n",
        "        dict1[y].append((x,y))\n",
        "    else:\n",
        "        dict1[y]=[(x,y)]\n",
        "print(dict1)"
      ],
      "execution_count": 4,
      "outputs": [
        {
          "output_type": "stream",
          "text": [
            "{80: [(20, 80), (31, 80)], 22: [(1, 22)], 11: [(88, 11), (27, 11)]}\n"
          ],
          "name": "stdout"
        }
      ]
    },
    {
      "cell_type": "markdown",
      "metadata": {
        "id": "VKQmdXDO99LB"
      },
      "source": [
        "Write a python program that will take a string as input from the user.  The\n",
        "input string should have a combination of BOTH the alphabets and the\n",
        "digits. Then, your task is to identify the digits from that input string\n",
        "and store those digits in a list. Finally, sort the list and print the\n",
        "sorted list and the sum of digits as output to the user.\n",
        "\n",
        "Note: You are allowed to use the built-in sort() or sorted() function here.\n",
        "================================\n",
        "Sample Input 01:\n",
        "m4gt567q09y2\n",
        "\n",
        "Sample Output 01:\n",
        "['0', '2', '4', '5', '6', '7', '9']\n",
        "33\n",
        "\n",
        "Explanation 01:\n",
        "Here from the given input string, the digits are stored in a list. After\n",
        "sorting the digits, the sorted list is printed to the user. Then, the sum\n",
        "of the digit which is 33 is printed.\n",
        "\n",
        "================================\n",
        "Sample Input 02:\n",
        "954217\n",
        "\n",
        "Sample Output 02:\n",
        "There is no alphabet in the string\n",
        "\n",
        "Explanation 02:\n",
        "Here from the given input string, there is no alphabet in the string. That\n",
        "is why it is printing “There is no alphabet in the string”\n",
        "================================\n",
        "Sample Input 03:\n",
        "abcdefgh\n",
        "\n",
        "Sample Output 03:\n",
        "There is no digit in the string\n",
        "\n",
        "Explanation 03: Here from the given input string, there is no digit in the\n",
        "string. That is why it is printing “There is no digit in the string”"
      ]
    },
    {
      "cell_type": "code",
      "metadata": {
        "colab": {
          "base_uri": "https://localhost:8080/"
        },
        "id": "tk4RgYGz98zk",
        "outputId": "655c9bc6-3277-4703-cb0f-88a1a0361f45"
      },
      "source": [
        "s='m4gt567q09y2'\n",
        "l1=[]#digit\n",
        "l2=[]#alpha\n",
        "sum=0\n",
        "for i in s:\n",
        "   if i in '0123456789':\n",
        "     l1.append( i)\n",
        "     sum=sum+int(i)\n",
        "   else:\n",
        "     l2.append(i)\n",
        "if len(l1)>0 and len(l2)>0:\n",
        "      l=sorted(l1)\n",
        "      print(l) \n",
        "      print(sum)\n",
        "elif len(l1)==0:\n",
        "      print('There is no digit in the string')\n",
        "elif len(l2)==0:\n",
        "      print('There is no alphabet in the string')"
      ],
      "execution_count": 14,
      "outputs": [
        {
          "output_type": "stream",
          "text": [
            "['0', '2', '4', '5', '6', '7', '9']\n",
            "33\n"
          ],
          "name": "stdout"
        }
      ]
    }
  ]
}