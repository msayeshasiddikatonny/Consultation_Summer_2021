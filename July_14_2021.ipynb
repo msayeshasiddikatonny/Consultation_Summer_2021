{
  "nbformat": 4,
  "nbformat_minor": 0,
  "metadata": {
    "colab": {
      "name": "July_14_2021.ipynb",
      "provenance": [],
      "authorship_tag": "ABX9TyMJScx+bZST2ikIXtR8kMqd",
      "include_colab_link": true
    },
    "kernelspec": {
      "name": "python3",
      "display_name": "Python 3"
    },
    "language_info": {
      "name": "python"
    }
  },
  "cells": [
    {
      "cell_type": "markdown",
      "metadata": {
        "id": "view-in-github",
        "colab_type": "text"
      },
      "source": [
        "<a href=\"https://colab.research.google.com/github/msayeshasiddikatonny/Consultation_Summer_2021/blob/main/July_14_2021.ipynb\" target=\"_parent\"><img src=\"https://colab.research.google.com/assets/colab-badge.svg\" alt=\"Open In Colab\"/></a>"
      ]
    },
    {
      "cell_type": "code",
      "metadata": {
        "colab": {
          "base_uri": "https://localhost:8080/"
        },
        "id": "_RA0l1DVmz4o",
        "outputId": "fd81076a-9c33-482f-d9ea-0c3a1c0d76e7"
      },
      "source": [
        "s1 = \"dustyyyy\"\n",
        "s2 = \"study\"\n",
        "s1=sorted(s1)\n",
        "s2=sorted(s2)\n",
        "if len(s1) != len(s2):\n",
        "    print(\"They are not anagram\")\n",
        "else:\n",
        " for i in range (0,len(s1)):\n",
        "    if s1[i] == s2[i]:\n",
        "         pass\n",
        "    else:\n",
        "        print(\"They are not anagram\")\n",
        "        break\n",
        "    print(\"They are   anagram\")"
      ],
      "execution_count": null,
      "outputs": [
        {
          "output_type": "stream",
          "text": [
            "They are not anagram\n"
          ],
          "name": "stdout"
        }
      ]
    },
    {
      "cell_type": "code",
      "metadata": {
        "colab": {
          "base_uri": "https://localhost:8080/"
        },
        "id": "36ncHGgPsOEp",
        "outputId": "225d7ae2-1c2b-428c-ad73-18dda9bc75fc"
      },
      "source": [
        "s1='abcd'\n",
        "s2='wxyz'\n",
        "s3=''#zdwa\n",
        "s3=s2[-1]+s1[-1]+s2[0]+s1[0]\n",
        "print(s3)"
      ],
      "execution_count": null,
      "outputs": [
        {
          "output_type": "stream",
          "text": [
            "zdwa\n"
          ],
          "name": "stdout"
        }
      ]
    },
    {
      "cell_type": "code",
      "metadata": {
        "colab": {
          "base_uri": "https://localhost:8080/"
        },
        "id": "6TtcJanppXMh",
        "outputId": "2f18c8c4-68da-443e-acd2-918a3d2724df"
      },
      "source": [
        "s=  'hi'#hi\n",
        "character= 'a'#a\n",
        "newlength=\"\"\n",
        "if character not in s  :\n",
        "  if len(s)>3:\n",
        "     newlength=s[1:len(s)-1]\n",
        "  #print(newstring)\n",
        "  else:\n",
        "   newlength=s\n",
        "else:\n",
        "  for i in range (len(s)):\n",
        "    if(s[i]!=character):\n",
        "      newlength=newlength+s[i]\n",
        "\n",
        "print(newlength)"
      ],
      "execution_count": null,
      "outputs": [
        {
          "output_type": "stream",
          "text": [
            "hi\n"
          ],
          "name": "stdout"
        }
      ]
    },
    {
      "cell_type": "code",
      "metadata": {
        "id": "kjUhJPYbyKhj",
        "colab": {
          "base_uri": "https://localhost:8080/"
        },
        "outputId": "e61141cf-8594-42bb-f98c-88442c331735"
      },
      "source": [
        "class Country:\n",
        "    def __init__(self):\n",
        "        self.name = \"Bangladesh\"\n",
        "        self.continent = \"Asia\"\n",
        "        self.capital = \"Dhaka\"\n",
        "        self.fifa_ranking = \"187\"\n",
        "country = Country()\n",
        "print('Name:',country.name)\n",
        "print('Continent:',country.continent)\n",
        "print('Capital:',country.capital)\n",
        "print('Fifa Ranking:',country.fifa_ranking)\n",
        "print('===================')\n",
        "country.name = \"Belgium\"\n",
        "country.continent = \"Europe\"\n",
        "country.capital = \"Brussels\"\n",
        "country.fifa_ranking = 1\n",
        "print('Name:',country.name)\n",
        "print('Continent:',country.continent)\n",
        "print('Capital:',country.capital)\n",
        "print('Fifa Ranking:',country.fifa_ranking)"
      ],
      "execution_count": null,
      "outputs": [
        {
          "output_type": "stream",
          "text": [
            "Name: Bangladesh\n",
            "Continent: Asia\n",
            "Capital: Dhaka\n",
            "Fifa Ranking: 187\n",
            "===================\n",
            "Name: Belgium\n",
            "Continent: Europe\n",
            "Capital: Brussels\n",
            "Fifa Ranking: 1\n"
          ],
          "name": "stdout"
        }
      ]
    }
  ]
}